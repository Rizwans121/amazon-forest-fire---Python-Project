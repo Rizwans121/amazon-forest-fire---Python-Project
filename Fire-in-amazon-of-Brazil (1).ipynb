{
 "cells": [
  {
   "cell_type": "code",
   "execution_count": 1,
   "id": "mathematical-hawaii",
   "metadata": {
    "_cell_guid": "b1076dfc-b9ad-4769-8c92-a6c4dae69d19",
    "_uuid": "8f2839f25d086af736a60e9eeb907d3b93b6e0e5",
    "collapsed": true,
    "execution": {
     "iopub.execute_input": "2021-05-31T15:22:57.894533Z",
     "iopub.status.busy": "2021-05-31T15:22:57.893888Z",
     "iopub.status.idle": "2021-05-31T15:22:57.906426Z",
     "shell.execute_reply": "2021-05-31T15:22:57.905556Z",
     "shell.execute_reply.started": "2021-05-31T14:57:58.314303Z"
    },
    "papermill": {
     "duration": 0.037365,
     "end_time": "2021-05-31T15:22:57.906681",
     "exception": false,
     "start_time": "2021-05-31T15:22:57.869316",
     "status": "completed"
    },
    "tags": []
   },
   "outputs": [
    {
     "name": "stdout",
     "output_type": "stream",
     "text": [
      "/kaggle/input/forest-fires-in-brazil/amazon.csv\n"
     ]
    }
   ],
   "source": [
    "import numpy as np # linear algebra\n",
    "import pandas as pd # data processing, CSV file I/O (e.g. pd.read_csv)\n",
    "from matplotlib import pyplot as plt\n",
    "\n",
    "import os\n",
    "for dirname, _, filenames in os.walk('input'):\n",
    "    for filename in filenames:\n",
    "        print(os.path.join(dirname, filename))"
   ]
  },
  {
   "cell_type": "code",
   "execution_count": 2,
   "id": "native-nightlife",
   "metadata": {
    "execution": {
     "iopub.execute_input": "2021-05-31T15:22:57.937151Z",
     "iopub.status.busy": "2021-05-31T15:22:57.936444Z",
     "iopub.status.idle": "2021-05-31T15:22:57.964710Z",
     "shell.execute_reply": "2021-05-31T15:22:57.964044Z",
     "shell.execute_reply.started": "2021-05-31T14:57:58.335445Z"
    },
    "papermill": {
     "duration": 0.045368,
     "end_time": "2021-05-31T15:22:57.965044",
     "exception": false,
     "start_time": "2021-05-31T15:22:57.919676",
     "status": "completed"
    },
    "tags": []
   },
   "outputs": [],
   "source": [
    "file = r'/input/forest-fires-in-brazil/amazon.csv'\n",
    "data = pd.read_csv(file)"
   ]
  },
  {
   "cell_type": "code",
   "execution_count": 3,
   "id": "forty-victim",
   "metadata": {
    "execution": {
     "iopub.execute_input": "2021-05-31T15:22:58.004598Z",
     "iopub.status.busy": "2021-05-31T15:22:58.002197Z",
     "iopub.status.idle": "2021-05-31T15:22:58.025786Z",
     "shell.execute_reply": "2021-05-31T15:22:58.025211Z",
     "shell.execute_reply.started": "2021-05-31T14:57:58.364330Z"
    },
    "papermill": {
     "duration": 0.048739,
     "end_time": "2021-05-31T15:22:58.025945",
     "exception": false,
     "start_time": "2021-05-31T15:22:57.977206",
     "status": "completed"
    },
    "tags": []
   },
   "outputs": [
    {
     "data": {
      "text/html": [
       "<div>\n",
       "<style scoped>\n",
       "    .dataframe tbody tr th:only-of-type {\n",
       "        vertical-align: middle;\n",
       "    }\n",
       "\n",
       "    .dataframe tbody tr th {\n",
       "        vertical-align: top;\n",
       "    }\n",
       "\n",
       "    .dataframe thead th {\n",
       "        text-align: right;\n",
       "    }\n",
       "</style>\n",
       "<table border=\"1\" class=\"dataframe\">\n",
       "  <thead>\n",
       "    <tr style=\"text-align: right;\">\n",
       "      <th></th>\n",
       "      <th>year</th>\n",
       "      <th>state</th>\n",
       "      <th>month</th>\n",
       "      <th>number</th>\n",
       "      <th>date</th>\n",
       "    </tr>\n",
       "  </thead>\n",
       "  <tbody>\n",
       "    <tr>\n",
       "      <th>0</th>\n",
       "      <td>1998</td>\n",
       "      <td>Acre</td>\n",
       "      <td>Janeiro</td>\n",
       "      <td>0.0</td>\n",
       "      <td>1998-01-01</td>\n",
       "    </tr>\n",
       "    <tr>\n",
       "      <th>1</th>\n",
       "      <td>1999</td>\n",
       "      <td>Acre</td>\n",
       "      <td>Janeiro</td>\n",
       "      <td>0.0</td>\n",
       "      <td>1999-01-01</td>\n",
       "    </tr>\n",
       "    <tr>\n",
       "      <th>2</th>\n",
       "      <td>2000</td>\n",
       "      <td>Acre</td>\n",
       "      <td>Janeiro</td>\n",
       "      <td>0.0</td>\n",
       "      <td>2000-01-01</td>\n",
       "    </tr>\n",
       "    <tr>\n",
       "      <th>3</th>\n",
       "      <td>2001</td>\n",
       "      <td>Acre</td>\n",
       "      <td>Janeiro</td>\n",
       "      <td>0.0</td>\n",
       "      <td>2001-01-01</td>\n",
       "    </tr>\n",
       "    <tr>\n",
       "      <th>4</th>\n",
       "      <td>2002</td>\n",
       "      <td>Acre</td>\n",
       "      <td>Janeiro</td>\n",
       "      <td>0.0</td>\n",
       "      <td>2002-01-01</td>\n",
       "    </tr>\n",
       "    <tr>\n",
       "      <th>...</th>\n",
       "      <td>...</td>\n",
       "      <td>...</td>\n",
       "      <td>...</td>\n",
       "      <td>...</td>\n",
       "      <td>...</td>\n",
       "    </tr>\n",
       "    <tr>\n",
       "      <th>6449</th>\n",
       "      <td>2012</td>\n",
       "      <td>Tocantins</td>\n",
       "      <td>Dezembro</td>\n",
       "      <td>128.0</td>\n",
       "      <td>2012-01-01</td>\n",
       "    </tr>\n",
       "    <tr>\n",
       "      <th>6450</th>\n",
       "      <td>2013</td>\n",
       "      <td>Tocantins</td>\n",
       "      <td>Dezembro</td>\n",
       "      <td>85.0</td>\n",
       "      <td>2013-01-01</td>\n",
       "    </tr>\n",
       "    <tr>\n",
       "      <th>6451</th>\n",
       "      <td>2014</td>\n",
       "      <td>Tocantins</td>\n",
       "      <td>Dezembro</td>\n",
       "      <td>223.0</td>\n",
       "      <td>2014-01-01</td>\n",
       "    </tr>\n",
       "    <tr>\n",
       "      <th>6452</th>\n",
       "      <td>2015</td>\n",
       "      <td>Tocantins</td>\n",
       "      <td>Dezembro</td>\n",
       "      <td>373.0</td>\n",
       "      <td>2015-01-01</td>\n",
       "    </tr>\n",
       "    <tr>\n",
       "      <th>6453</th>\n",
       "      <td>2016</td>\n",
       "      <td>Tocantins</td>\n",
       "      <td>Dezembro</td>\n",
       "      <td>119.0</td>\n",
       "      <td>2016-01-01</td>\n",
       "    </tr>\n",
       "  </tbody>\n",
       "</table>\n",
       "<p>6454 rows × 5 columns</p>\n",
       "</div>"
      ],
      "text/plain": [
       "      year      state     month  number        date\n",
       "0     1998       Acre   Janeiro     0.0  1998-01-01\n",
       "1     1999       Acre   Janeiro     0.0  1999-01-01\n",
       "2     2000       Acre   Janeiro     0.0  2000-01-01\n",
       "3     2001       Acre   Janeiro     0.0  2001-01-01\n",
       "4     2002       Acre   Janeiro     0.0  2002-01-01\n",
       "...    ...        ...       ...     ...         ...\n",
       "6449  2012  Tocantins  Dezembro   128.0  2012-01-01\n",
       "6450  2013  Tocantins  Dezembro    85.0  2013-01-01\n",
       "6451  2014  Tocantins  Dezembro   223.0  2014-01-01\n",
       "6452  2015  Tocantins  Dezembro   373.0  2015-01-01\n",
       "6453  2016  Tocantins  Dezembro   119.0  2016-01-01\n",
       "\n",
       "[6454 rows x 5 columns]"
      ]
     },
     "execution_count": 3,
     "metadata": {},
     "output_type": "execute_result"
    }
   ],
   "source": [
    "data"
   ]
  },
  {
   "cell_type": "code",
   "execution_count": 4,
   "id": "congressional-cooperative",
   "metadata": {
    "execution": {
     "iopub.execute_input": "2021-05-31T15:22:58.074299Z",
     "iopub.status.busy": "2021-05-31T15:22:58.073612Z",
     "iopub.status.idle": "2021-05-31T15:22:58.264340Z",
     "shell.execute_reply": "2021-05-31T15:22:58.263798Z",
     "shell.execute_reply.started": "2021-05-31T14:57:58.406035Z"
    },
    "papermill": {
     "duration": 0.226192,
     "end_time": "2021-05-31T15:22:58.264494",
     "exception": false,
     "start_time": "2021-05-31T15:22:58.038302",
     "status": "completed"
    },
    "tags": []
   },
   "outputs": [
    {
     "data": {
      "text/plain": [
       "<matplotlib.collections.PathCollection at 0x7ff9e8596b90>"
      ]
     },
     "execution_count": 4,
     "metadata": {},
     "output_type": "execute_result"
    },
    {
     "data": {
      "image/png": "[encoded data removed]",
      "text/plain": [
       "<Figure size 432x288 with 1 Axes>"
      ]
     },
     "metadata": {
      "needs_background": "light"
     },
     "output_type": "display_data"
    }
   ],
   "source": [
    "plt.scatter(data.year, data.number, color = 'gray')"
   ]
  },
  {
   "cell_type": "code",
   "execution_count": 5,
   "id": "pediatric-replication",
   "metadata": {
    "execution": {
     "iopub.execute_input": "2021-05-31T15:22:58.301715Z",
     "iopub.status.busy": "2021-05-31T15:22:58.298402Z",
     "iopub.status.idle": "2021-05-31T15:22:58.306177Z",
     "shell.execute_reply": "2021-05-31T15:22:58.305545Z",
     "shell.execute_reply.started": "2021-05-31T14:57:58.628282Z"
    },
    "papermill": {
     "duration": 0.028453,
     "end_time": "2021-05-31T15:22:58.306322",
     "exception": false,
     "start_time": "2021-05-31T15:22:58.277869",
     "status": "completed"
    },
    "tags": []
   },
   "outputs": [
    {
     "data": {
      "text/plain": [
       "year\n",
       "1998    20013.971\n",
       "1999    26882.821\n",
       "2000    27351.251\n",
       "2001    29071.612\n",
       "2002    37390.600\n",
       "2003    42760.674\n",
       "2004    38453.163\n",
       "2005    35004.965\n",
       "2006    33832.161\n",
       "2007    33037.413\n",
       "2008    29378.964\n",
       "2009    39117.178\n",
       "2010    37037.449\n",
       "2011    34633.545\n",
       "2012    40084.860\n",
       "2013    35146.118\n",
       "2014    39621.183\n",
       "2015    41208.292\n",
       "2016    42212.229\n",
       "2017    36685.624\n",
       "Name: number, dtype: float64"
      ]
     },
     "execution_count": 5,
     "metadata": {},
     "output_type": "execute_result"
    }
   ],
   "source": [
    "group_year = data['number'].groupby(data['year'])\n",
    "group_year.sum()"
   ]
  },
  {
   "cell_type": "code",
   "execution_count": 6,
   "id": "differential-publicity",
   "metadata": {
    "execution": {
     "iopub.execute_input": "2021-05-31T15:22:58.341404Z",
     "iopub.status.busy": "2021-05-31T15:22:58.340665Z",
     "iopub.status.idle": "2021-05-31T15:22:58.506713Z",
     "shell.execute_reply": "2021-05-31T15:22:58.505924Z",
     "shell.execute_reply.started": "2021-05-31T14:57:58.641786Z"
    },
    "papermill": {
     "duration": 0.186708,
     "end_time": "2021-05-31T15:22:58.506935",
     "exception": false,
     "start_time": "2021-05-31T15:22:58.320227",
     "status": "completed"
    },
    "tags": []
   },
   "outputs": [
    {
     "data": {
      "text/plain": [
       "[<matplotlib.lines.Line2D at 0x7ff9e845b690>]"
      ]
     },
     "execution_count": 6,
     "metadata": {},
     "output_type": "execute_result"
    },
    {
     "data": {
      "image/png": "[encoded data removed]",
      "text/plain": [
       "<Figure size 432x288 with 1 Axes>"
      ]
     },
     "metadata": {
      "needs_background": "light"
     },
     "output_type": "display_data"
    }
   ],
   "source": [
    "plt.scatter(data['year'].drop_duplicates(keep = 'first'), \n",
    "            group_year.sum(),\n",
    "            color = 'black')\n",
    "\n",
    "plt.plot(data['year'].drop_duplicates(keep = 'first'), \n",
    "            group_year.sum(),\n",
    "            color = 'red')"
   ]
  },
  {
   "cell_type": "markdown",
   "id": "backed-chaos",
   "metadata": {
    "execution": {
     "iopub.execute_input": "2021-05-29T03:48:29.827324Z",
     "iopub.status.busy": "2021-05-29T03:48:29.826785Z",
     "iopub.status.idle": "2021-05-29T03:48:29.831951Z",
     "shell.execute_reply": "2021-05-29T03:48:29.830949Z",
     "shell.execute_reply.started": "2021-05-29T03:48:29.827289Z"
    },
    "papermill": {
     "duration": 0.017867,
     "end_time": "2021-05-31T15:22:58.542647",
     "exception": false,
     "start_time": "2021-05-31T15:22:58.524780",
     "status": "completed"
    },
    "tags": []
   },
   "source": [
    "According the figure:\n",
    "\n",
    "    1. 2008, the fires is least, and 2003, the fires is most\n",
    "    \n",
    "    2. the basic trend is still increase"
   ]
  },
  {
   "cell_type": "code",
   "execution_count": 7,
   "id": "exotic-mason",
   "metadata": {
    "execution": {
     "iopub.execute_input": "2021-05-31T15:22:58.591781Z",
     "iopub.status.busy": "2021-05-31T15:22:58.590803Z",
     "iopub.status.idle": "2021-05-31T15:22:58.604899Z",
     "shell.execute_reply": "2021-05-31T15:22:58.604200Z",
     "shell.execute_reply.started": "2021-05-31T14:57:58.808810Z"
    },
    "papermill": {
     "duration": 0.04252,
     "end_time": "2021-05-31T15:22:58.605059",
     "exception": false,
     "start_time": "2021-05-31T15:22:58.562539",
     "status": "completed"
    },
    "tags": []
   },
   "outputs": [
    {
     "data": {
      "text/plain": [
       "month\n",
       "Abril        28188.770\n",
       "Agosto       88050.435\n",
       "Dezembro     57535.480\n",
       "Fevereiro    30848.050\n",
       "Janeiro      47747.844\n",
       "Julho        92326.113\n",
       "Junho        56010.675\n",
       "Maio         34731.363\n",
       "Mar�o        30717.405\n",
       "Novembro     85508.054\n",
       "Outubro      88681.579\n",
       "Setembro     58578.305\n",
       "Name: number, dtype: float64"
      ]
     },
     "execution_count": 7,
     "metadata": {},
     "output_type": "execute_result"
    }
   ],
   "source": [
    "group_month = data['number'].groupby(data['month'])\n",
    "group_month.sum()"
   ]
  },
  {
   "cell_type": "code",
   "execution_count": 9,
   "id": "recent-packing",
   "metadata": {
    "execution": {
     "iopub.execute_input": "2021-05-31T15:22:58.858037Z",
     "iopub.status.busy": "2021-05-31T15:22:58.857429Z",
     "iopub.status.idle": "2021-05-31T15:22:58.865350Z",
     "shell.execute_reply": "2021-05-31T15:22:58.864746Z",
     "shell.execute_reply.started": "2021-05-31T14:58:18.276691Z"
    },
    "papermill": {
     "duration": 0.030288,
     "end_time": "2021-05-31T15:22:58.865518",
     "exception": false,
     "start_time": "2021-05-31T15:22:58.835230",
     "status": "completed"
    },
    "tags": []
   },
   "outputs": [
    {
     "data": {
      "text/plain": [
       "state\n",
       "Acre                18464.030\n",
       "Alagoas              4644.000\n",
       "Amapa               21831.576\n",
       "Amazonas            30650.129\n",
       "Bahia               44746.226\n",
       "Ceara               30428.063\n",
       "Distrito Federal     3561.000\n",
       "Espirito Santo       6546.000\n",
       "Goias               37695.520\n",
       "Maranhao            25129.131\n",
       "Mato Grosso         96246.028\n",
       "Minas Gerais        37475.258\n",
       "Paraiba             52435.918\n",
       "Par�                24512.144\n",
       "Pernambuco          24498.000\n",
       "Piau                37803.747\n",
       "Rio                 45160.865\n",
       "Rondonia            20285.429\n",
       "Roraima             24385.074\n",
       "Santa Catarina      24359.852\n",
       "Sao Paulo           51121.198\n",
       "Sergipe              3237.000\n",
       "Tocantins           33707.885\n",
       "Name: number, dtype: float64"
      ]
     },
     "execution_count": 9,
     "metadata": {},
     "output_type": "execute_result"
    }
   ],
   "source": [
    "group_state = data['number'].groupby(data['state'])\n",
    "group_state.sum()"
   ]
  },
  {
   "cell_type": "code",
   "execution_count": 10,
   "id": "computational-arctic",
   "metadata": {
    "execution": {
     "iopub.execute_input": "2021-05-31T15:22:58.906325Z",
     "iopub.status.busy": "2021-05-31T15:22:58.905664Z",
     "iopub.status.idle": "2021-05-31T15:22:58.908903Z",
     "shell.execute_reply": "2021-05-31T15:22:58.908390Z",
     "shell.execute_reply.started": "2021-05-31T15:17:14.790908Z"
    },
    "papermill": {
     "duration": 0.026491,
     "end_time": "2021-05-31T15:22:58.909066",
     "exception": false,
     "start_time": "2021-05-31T15:22:58.882575",
     "status": "completed"
    },
    "tags": []
   },
   "outputs": [],
   "source": [
    "data_state = group_state.sum()"
   ]
  },
  {
   "cell_type": "code",
   "execution_count": 11,
   "id": "temporal-photograph",
   "metadata": {
    "execution": {
     "iopub.execute_input": "2021-05-31T15:22:58.949383Z",
     "iopub.status.busy": "2021-05-31T15:22:58.948672Z",
     "iopub.status.idle": "2021-05-31T15:22:58.974670Z",
     "shell.execute_reply": "2021-05-31T15:22:58.973606Z",
     "shell.execute_reply.started": "2021-05-31T15:22:15.963564Z"
    },
    "papermill": {
     "duration": 0.048598,
     "end_time": "2021-05-31T15:22:58.974869",
     "exception": false,
     "start_time": "2021-05-31T15:22:58.926271",
     "status": "completed"
    },
    "tags": []
   },
   "outputs": [
    {
     "data": {
      "text/plain": [
       "state\n",
       "Bahia          44746.226\n",
       "Mato Grosso    96246.028\n",
       "Paraiba        52435.918\n",
       "Rio            45160.865\n",
       "Sao Paulo      51121.198\n",
       "Name: number, dtype: float64"
      ]
     },
     "execution_count": 11,
     "metadata": {},
     "output_type": "execute_result"
    }
   ],
   "source": [
    "other = data_state[data_state < 40000].sum()\n",
    "other = pd.Series(other, index = ['other'])\n",
    "total = data_state[data_state >= 40000]\n",
    "\n",
    "total"
   ]
  },
  {
   "cell_type": "code",
   "execution_count": 12,
   "id": "hungry-allergy",
   "metadata": {
    "execution": {
     "iopub.execute_input": "2021-05-31T15:22:59.039672Z",
     "iopub.status.busy": "2021-05-31T15:22:59.031862Z",
     "iopub.status.idle": "2021-05-31T15:22:59.098829Z",
     "shell.execute_reply": "2021-05-31T15:22:59.099284Z",
     "shell.execute_reply.started": "2021-05-31T15:22:18.711518Z"
    },
    "papermill": {
     "duration": 0.106996,
     "end_time": "2021-05-31T15:22:59.099516",
     "exception": false,
     "start_time": "2021-05-31T15:22:58.992520",
     "status": "completed"
    },
    "tags": []
   },
   "outputs": [
    {
     "data": {
      "text/plain": [
       "([<matplotlib.patches.Wedge at 0x7ff9e8376e90>,\n",
       "  <matplotlib.patches.Wedge at 0x7ff9e8090fd0>,\n",
       "  <matplotlib.patches.Wedge at 0x7ff9e80a1450>,\n",
       "  <matplotlib.patches.Wedge at 0x7ff9e80a18d0>,\n",
       "  <matplotlib.patches.Wedge at 0x7ff9e80a1e90>],\n",
       " [Text(0.9730274297390997, 0.5130473866762421, ''),\n",
       "  Text(-0.4718506787301116, 0.9936583602938855, ''),\n",
       "  Text(-0.9732277093697105, -0.512667363614056, ''),\n",
       "  Text(-0.030390837263149253, -1.0995801003157728, ''),\n",
       "  Text(0.9352650271605627, -0.5790330983375233, '')])"
      ]
     },
     "execution_count": 12,
     "metadata": {},
     "output_type": "execute_result"
    },
    {
     "data": {
      "image/png": "[encoded data removed]",
      "text/plain": [
       "<Figure size 432x288 with 1 Axes>"
      ]
     },
     "metadata": {},
     "output_type": "display_data"
    }
   ],
   "source": [
    "plt.pie(total)"
   ]
  }
 ],
 "metadata": {
  "kernelspec": {
   "display_name": "Python 3",
   "language": "python",
   "name": "python3"
  },
  "language_info": {
   "codemirror_mode": {
    "name": "ipython",
    "version": 3
   },
   "file_extension": ".py",
   "mimetype": "text/x-python",
   "name": "python",
   "nbconvert_exporter": "python",
   "pygments_lexer": "ipython3",
   "version": "3.8.8"
  },
  "papermill": {
   "default_parameters": {},
   "duration": 10.802841,
   "end_time": "2021-05-31T15:23:00.397875",
   "environment_variables": {},
   "exception": null,
   "input_path": "__notebook__.ipynb",
   "output_path": "__notebook__.ipynb",
   "parameters": {},
   "start_time": "2021-05-31T15:22:49.595034",
   "version": "2.3.3"
  }
 },
 "nbformat": 4,
 "nbformat_minor": 5
}
